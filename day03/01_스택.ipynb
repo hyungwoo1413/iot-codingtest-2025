{
 "cells": [
  {
   "cell_type": "markdown",
   "id": "afe33687",
   "metadata": {},
   "source": [
    "## 스택\n",
    "\n",
    "### 개념\n",
    "\n",
    "#### ADT\n",
    "- `boolean isFull()` : 스택이 가득 찼는지 확인. True면 더이상 삽입 불가\n",
    "- `boelean isEmpty()` : 스택이 비어있는지 확인. True면 추출 불가\n",
    "- `void push(item)` : 스택에 데이터 푸시. isFull() True면 처리 불가\n",
    "- `item pop()` : 스택에서 최근 푸시한 데이터 팝. isEmpty() True면 처리 불가\n",
    "- `int top` : 스택에 최근 푸시한 데이터 위치(높이)\n",
    "- `item data[maxsize]` : 데이터를 관리하는 리스트"
   ]
  },
  {
   "cell_type": "markdown",
   "id": "e035cde6",
   "metadata": {},
   "source": [
    "```shell\n",
    "pip install stack\n",
    "```\n",
    "\n",
    "```python\n",
    "from stack import Stack\n",
    "```"
   ]
  },
  {
   "cell_type": "code",
   "execution_count": 3,
   "id": "575a636b",
   "metadata": {},
   "outputs": [],
   "source": [
    "# 구현\n",
    "stack = []\n",
    "max_size = 4   # 데이터 10개만 저장\n",
    "\n",
    "# 스택이 꽉 찾는지 확인\n",
    "def isFull(stack):\n",
    "    return len(stack) == max_size\n",
    "\n",
    "# 스택이 비었는지 확인\n",
    "def isEmpty(stack):\n",
    "    return len(stack) == 0\n",
    "\n",
    "# Push\n",
    "def push(stack, item):\n",
    "    if isFull(stack):\n",
    "        print(\"스택이 가득찼습니다!\")\n",
    "    else:\n",
    "        stack.append(item)\n",
    "        print(\"스택에 데이터 추가\")\n",
    "\n",
    "# Pop\n",
    "def pop(stack):\n",
    "    if isEmpty(stack):\n",
    "        print(\"스택이 비어있습니다!\")\n",
    "        return None\n",
    "    else:\n",
    "        return stack.pop()"
   ]
  },
  {
   "cell_type": "code",
   "execution_count": 4,
   "id": "547cfcba",
   "metadata": {},
   "outputs": [
    {
     "name": "stdout",
     "output_type": "stream",
     "text": [
      "스택에 데이터 추가\n"
     ]
    }
   ],
   "source": [
    "mystack = []\n",
    "\n",
    "push(mystack, 2)\n"
   ]
  },
  {
   "cell_type": "code",
   "execution_count": 5,
   "id": "24ba0cf5",
   "metadata": {},
   "outputs": [
    {
     "name": "stdout",
     "output_type": "stream",
     "text": [
      "스택에 데이터 추가\n",
      "스택에 데이터 추가\n"
     ]
    }
   ],
   "source": [
    "push(mystack, 5)\n",
    "push(mystack, 12)"
   ]
  },
  {
   "cell_type": "code",
   "execution_count": 7,
   "id": "1f926602",
   "metadata": {},
   "outputs": [
    {
     "name": "stdout",
     "output_type": "stream",
     "text": [
      "스택에 데이터 추가\n"
     ]
    }
   ],
   "source": [
    "push(mystack, 7)"
   ]
  },
  {
   "cell_type": "code",
   "execution_count": 9,
   "id": "11834316",
   "metadata": {},
   "outputs": [
    {
     "data": {
      "text/plain": [
       "[2, 5, 12, 7]"
      ]
     },
     "execution_count": 9,
     "metadata": {},
     "output_type": "execute_result"
    }
   ],
   "source": [
    "mystack"
   ]
  },
  {
   "cell_type": "code",
   "execution_count": 10,
   "id": "29f34e90",
   "metadata": {},
   "outputs": [
    {
     "name": "stdout",
     "output_type": "stream",
     "text": [
      "스택이 가득찼습니다!\n"
     ]
    }
   ],
   "source": [
    "push(mystack, 2)"
   ]
  },
  {
   "cell_type": "code",
   "execution_count": 11,
   "id": "99509f26",
   "metadata": {},
   "outputs": [
    {
     "data": {
      "text/plain": [
       "7"
      ]
     },
     "execution_count": 11,
     "metadata": {},
     "output_type": "execute_result"
    }
   ],
   "source": [
    "pop(mystack)"
   ]
  },
  {
   "cell_type": "code",
   "execution_count": 12,
   "id": "5ed94348",
   "metadata": {},
   "outputs": [
    {
     "data": {
      "text/plain": [
       "[2, 5, 12]"
      ]
     },
     "execution_count": 12,
     "metadata": {},
     "output_type": "execute_result"
    }
   ],
   "source": [
    "mystack"
   ]
  },
  {
   "cell_type": "markdown",
   "id": "ac6eac34",
   "metadata": {},
   "source": [
    "### 몸풀기 문제\n",
    "\n",
    "#### 괄호 짝 맞추기\n",
    "- https://school.programmers.co.kr/learn/courses/30/lessons/12909"
   ]
  },
  {
   "cell_type": "code",
   "execution_count": null,
   "id": "ab2249fa",
   "metadata": {},
   "outputs": [],
   "source": [
    "def solution(s):\n",
    "    stack = [] # 리스트를 스택대신, append(), pop() 사용\n",
    "\n",
    "    for c in s: # 문자열 s를 받아서 단어 c 하나씩 반복\n",
    "        if c == '(': # 여는 괄호면\n",
    "            stack.append(c)\n",
    "        elif c == ')': # 닫는 괄호일때\n",
    "            if not stack: # 스택에 여는 괄호가 없으면 에러!\n",
    "                return False\n",
    "            else:\n",
    "                stack.pop() # 들어있는 ( 를 빼냄\n",
    "\n",
    "    if stack:\n",
    "        return False # 반복이 끝났는데 스택에 뭔가 남아있으면 에러!\n",
    "    else:\n",
    "        return True\n"
   ]
  },
  {
   "cell_type": "code",
   "execution_count": 5,
   "id": "12598860",
   "metadata": {},
   "outputs": [
    {
     "data": {
      "text/plain": [
       "False"
      ]
     },
     "execution_count": 5,
     "metadata": {},
     "output_type": "execute_result"
    }
   ],
   "source": [
    "solution('(())()')"
   ]
  }
 ],
 "metadata": {
  "kernelspec": {
   "display_name": "3.11.9",
   "language": "python",
   "name": "python3"
  },
  "language_info": {
   "codemirror_mode": {
    "name": "ipython",
    "version": 3
   },
   "file_extension": ".py",
   "mimetype": "text/x-python",
   "name": "python",
   "nbconvert_exporter": "python",
   "pygments_lexer": "ipython3",
   "version": "3.11.9"
  }
 },
 "nbformat": 4,
 "nbformat_minor": 5
}
